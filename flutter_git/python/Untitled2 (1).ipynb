{
 "cells": [
  {
   "cell_type": "code",
   "execution_count": null,
   "id": "ee93ee4a-2189-48b4-876b-0410d37b2ae6",
   "metadata": {},
   "outputs": [],
   "source": [
    "from flask import Flask, request, jsonify\n",
    "import joblib\n",
    "import numpy as np\n",
    "\n",
    "# Inisialisasi Flask app\n",
    "app = Flask(__name__)\n",
    "\n",
    "# Memuat model SVM yang sudah disimpan\n",
    "svm_model = joblib.load('svm_model.pkl')\n",
    "\n",
    "@app.route('/')\n",
    "def home():\n",
    "    return \"Selamat datang di API Prediksi Model SVM!\"\n",
    "\n",
    "@app.route('/predict', methods=['POST'])\n",
    "def predict():\n",
    "    try:\n",
    "        # Mengambil data JSON dari permintaan\n",
    "        data = request.get_json()\n",
    "        \n",
    "        # Memastikan input memiliki dua fitur\n",
    "        if 'feature1' not in data or 'feature2' not in data:\n",
    "            return jsonify({'error': 'Data input tidak lengkap. Harus ada \"feature1\" dan \"feature2\".'}), 400\n",
    "        \n",
    "        # Mengambil fitur dari input JSON\n",
    "        feature1 = data['feature1']\n",
    "        feature2 = data['feature2']\n",
    "        \n",
    "        # Menyiapkan data untuk prediksi (normalisasi jika perlu)\n",
    "        input_data = np.array([[feature1, feature2]])\n",
    "        \n",
    "        # Melakukan prediksi\n",
    "        prediction = svm_model.predict(input_data)\n",
    "        \n",
    "        # Mengembalikan hasil prediksi\n",
    "        return jsonify({'prediction': int(prediction[0])})\n",
    "    \n",
    "    except Exception as e:\n",
    "        return jsonify({'error': str(e)}), 500\n",
    "\n",
    "if __name__ == '__main__':\n",
    "    app.run(debug=True)\n"
   ]
  }
 ],
 "metadata": {
  "kernelspec": {
   "display_name": "Python 3 (ipykernel)",
   "language": "python",
   "name": "python3"
  },
  "language_info": {
   "codemirror_mode": {
    "name": "ipython",
    "version": 3
   },
   "file_extension": ".py",
   "mimetype": "text/x-python",
   "name": "python",
   "nbconvert_exporter": "python",
   "pygments_lexer": "ipython3",
   "version": "3.12.5"
  }
 },
 "nbformat": 4,
 "nbformat_minor": 5
}
