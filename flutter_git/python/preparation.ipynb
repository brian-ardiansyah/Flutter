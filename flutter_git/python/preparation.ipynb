{
 "cells": [
  {
   "cell_type": "code",
   "execution_count": 1,
   "id": "d80e518e",
   "metadata": {},
   "outputs": [
    {
     "name": "stdout",
     "output_type": "stream",
     "text": [
      "LUNG_CANCER\n",
      "YES    270\n",
      "NO      39\n",
      "Name: count, dtype: int64\n",
      "Data berhasil disimpan ke 'data_lungs_1000.csv'\n"
     ]
    }
   ],
   "source": [
    "import pandas as pd\n",
    "from sklearn.utils import resample\n",
    "\n",
    "# 1. Load data CSV\n",
    "df = pd.read_csv(\"data_lungsbaru.csv\")\n",
    "\n",
    "# 2. Cek distribusi target\n",
    "print(df[\"LUNG_CANCER\"].value_counts())\n",
    "\n",
    "# 3. Pisahkan berdasarkan label target\n",
    "df_yes = df[df[\"LUNG_CANCER\"] == \"YES\"]\n",
    "df_no = df[df[\"LUNG_CANCER\"] == \"NO\"]\n",
    "\n",
    "# 4. Tentukan target data\n",
    "target_total = 1000\n",
    "target_per_class = target_total // 2\n",
    "\n",
    "# 5. Oversample masing-masing class\n",
    "df_yes_upsampled = resample(df_yes, replace=True, n_samples=target_per_class, random_state=42)\n",
    "df_no_upsampled = resample(df_no, replace=True, n_samples=target_per_class, random_state=42)\n",
    "\n",
    "# 6. Gabung dan acak data\n",
    "df_final = pd.concat([df_yes_upsampled, df_no_upsampled]).sample(frac=1, random_state=42).reset_index(drop=True)\n",
    "\n",
    "# 7. Simpan ke file baru\n",
    "df_final.to_csv(\"data_lungs_1000.csv\", index=False)\n",
    "print(\"Data berhasil disimpan ke 'data_lungs_1000.csv'\")"
   ]
  },
  {
   "cell_type": "code",
   "execution_count": 3,
   "id": "e3fb79ee",
   "metadata": {},
   "outputs": [
    {
     "name": "stdout",
     "output_type": "stream",
     "text": [
      "Akurasi: 0.96\n",
      "Laporan klasifikasi:\n",
      "               precision    recall  f1-score   support\n",
      "\n",
      "           0       0.97      0.95      0.96        39\n",
      "           1       0.95      0.98      0.96        41\n",
      "\n",
      "    accuracy                           0.96        80\n",
      "   macro avg       0.96      0.96      0.96        80\n",
      "weighted avg       0.96      0.96      0.96        80\n",
      "\n"
     ]
    }
   ],
   "source": [
    "import pandas as pd\n",
    "from sklearn.model_selection import train_test_split\n",
    "from sklearn.preprocessing import MinMaxScaler\n",
    "from sklearn.svm import SVC\n",
    "from sklearn.metrics import classification_report, accuracy_score\n",
    "from imblearn.over_sampling import SMOTE\n",
    "import joblib\n",
    "\n",
    "# Load data\n",
    "data = pd.read_csv(\"data_lungs_1000.csv\")\n",
    "\n",
    "# Encode kolom GENDER dan LUNG_CANCER\n",
    "data['GENDER'] = data['GENDER'].str.strip().map({'M': 1, 'F': 0})\n",
    "data['LUNG_CANCER'] = data['LUNG_CANCER'].str.strip().map({'YES': 1, 'NO': 0})\n",
    "\n",
    "# Hapus data duplikat\n",
    "data = data.drop_duplicates()\n",
    "\n",
    "# Pisahkan fitur dan target\n",
    "X = data.drop(columns=['LUNG_CANCER'])\n",
    "y = data['LUNG_CANCER']\n",
    "\n",
    "# Normalisasi fitur\n",
    "scaler = MinMaxScaler()\n",
    "X_scaled = scaler.fit_transform(X)\n",
    "\n",
    "# Oversampling dengan SMOTE\n",
    "smote = SMOTE(random_state=42)\n",
    "X_resampled, y_resampled = smote.fit_resample(X_scaled, y)\n",
    "\n",
    "# Split data untuk training dan testing\n",
    "X_train, X_test, y_train, y_test = train_test_split(\n",
    "    X_resampled, y_resampled, test_size=0.2, random_state=42\n",
    ")\n",
    "\n",
    "# Inisialisasi dan latih model SVM\n",
    "model = SVC(kernel='rbf', probability=True, random_state=42)\n",
    "model.fit(X_train, y_train)\n",
    "\n",
    "# Evaluasi model\n",
    "y_pred = model.predict(X_test)\n",
    "print(f\"Akurasi: {accuracy_score(y_test, y_pred):.2f}\")\n",
    "print(\"Laporan klasifikasi:\\n\", classification_report(y_test, y_pred))\n",
    "\n",
    "# Simpan model dan scaler\n",
    "joblib.dump(model, 'model_lung.pkl')\n",
    "joblib.dump(scaler, 'scaler_lung.pkl')\n",
    "\n",
    "# Fungsi prediksi\n",
    "def predict_lung_cancer(input_data):\n",
    "    input_df = pd.DataFrame([input_data])\n",
    "    input_scaled = scaler.transform(input_df)\n",
    "    prediction = model.predict(input_scaled)\n",
    "    label = prediction[0]\n",
    "    return \"Positif Kanker Paru\" if label == 1 else \"Negatif Kanker Paru\""
   ]
  }
 ],
 "metadata": {
  "kernelspec": {
   "display_name": "Python 3",
   "language": "python",
   "name": "python3"
  },
  "language_info": {
   "codemirror_mode": {
    "name": "ipython",
    "version": 3
   },
   "file_extension": ".py",
   "mimetype": "text/x-python",
   "name": "python",
   "nbconvert_exporter": "python",
   "pygments_lexer": "ipython3",
   "version": "3.12.5"
  }
 },
 "nbformat": 4,
 "nbformat_minor": 5
}
